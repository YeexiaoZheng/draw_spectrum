{
 "cells": [
  {
   "cell_type": "code",
   "execution_count": 14,
   "metadata": {},
   "outputs": [],
   "source": [
    "limit = 100"
   ]
  },
  {
   "cell_type": "code",
   "execution_count": 15,
   "metadata": {},
   "outputs": [],
   "source": [
    "import math\n",
    "\n",
    "class Zipf:\n",
    "    def __init__(self):\n",
    "        self.hasInit = False\n",
    "\n",
    "    def init(self, n, theta):\n",
    "        self.hasInit = True\n",
    "        self.n_ = n\n",
    "        self.theta_ = theta\n",
    "        self.alpha_ = 1.0 / (1.0 - theta)\n",
    "        self.zetan_ = self.zeta(n)\n",
    "        self.eta_ = (1.0 - math.pow(2.0 / n, 1.0 - theta)) / (1.0 - self.zeta(2) / self.zetan_)\n",
    "\n",
    "    def value(self, u):\n",
    "        assert self.hasInit, \"Not initialized\"\n",
    "        uz = u * self.zetan_\n",
    "        if uz < 1:\n",
    "            v = 0\n",
    "        elif uz < 1 + math.pow(0.5, self.theta_):\n",
    "            v = 1\n",
    "        else:\n",
    "            v = int(self.n_ * math.pow(self.eta_ * u - self.eta_ + 1, self.alpha_))\n",
    "        assert v >= 0 and v < self.n_, \"Value out of range\"\n",
    "        return v\n",
    "\n",
    "    def zeta(self, n):\n",
    "        assert self.hasInit, \"Not initialized\"\n",
    "        sum = 0\n",
    "        for i in range(1, n+1):\n",
    "            sum += math.pow(1.0 / i, self.theta_)\n",
    "        return sum\n",
    "\n",
    "globalZipf = Zipf()\n",
    "globalZipf.init(limit, 2.0)"
   ]
  },
  {
   "cell_type": "code",
   "execution_count": 16,
   "metadata": {},
   "outputs": [
    {
     "data": {
      "text/plain": [
       "[<matplotlib.lines.Line2D at 0x1e091f3c7f0>]"
      ]
     },
     "execution_count": 16,
     "metadata": {},
     "output_type": "execute_result"
    },
    {
     "data": {
      "image/png": "[encoded data removed]",
      "text/plain": [
       "<Figure size 640x480 with 1 Axes>"
      ]
     },
     "metadata": {},
     "output_type": "display_data"
    }
   ],
   "source": [
    "import random\n",
    "import numpy as np\n",
    "import pandas as pd\n",
    "import matplotlib.pyplot as plt\n",
    "\n",
    "values = []\n",
    "\n",
    "for i in range(limit):\n",
    "    values.append(globalZipf.value(random.random()))\n",
    "\n",
    "data = pd.DataFrame({\n",
    "    \"key\": list(range(limit)),\n",
    "    \"count\": [values.count(i) for i in range(limit)]\n",
    "})\n",
    "\n",
    "plt.plot(data[\"key\"], data[\"count\"])"
   ]
  },
  {
   "cell_type": "code",
   "execution_count": 18,
   "metadata": {},
   "outputs": [
    {
     "name": "stdout",
     "output_type": "stream",
     "text": [
      "Hello World\n"
     ]
    }
   ],
   "source": [
    "exec('print(\"Hello World\")')"
   ]
  }
 ],
 "metadata": {
  "kernelspec": {
   "display_name": "Python 3",
   "language": "python",
   "name": "python3"
  },
  "language_info": {
   "codemirror_mode": {
    "name": "ipython",
    "version": 3
   },
   "file_extension": ".py",
   "mimetype": "text/x-python",
   "name": "python",
   "nbconvert_exporter": "python",
   "pygments_lexer": "ipython3",
   "version": "3.10.11"
  }
 },
 "nbformat": 4,
 "nbformat_minor": 2
}
